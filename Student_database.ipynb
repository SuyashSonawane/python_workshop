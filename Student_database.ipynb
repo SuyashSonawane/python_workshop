{
  "nbformat": 4,
  "nbformat_minor": 0,
  "metadata": {
    "colab": {
      "name": "Student-database.ipynb",
      "version": "0.3.2",
      "provenance": [],
      "collapsed_sections": [],
      "include_colab_link": true
    },
    "kernelspec": {
      "name": "python2",
      "display_name": "Python 2"
    }
  },
  "cells": [
    {
      "cell_type": "markdown",
      "metadata": {
        "id": "view-in-github",
        "colab_type": "text"
      },
      "source": [
        "<a href=\"https://colab.research.google.com/github/SuyashSonawane/python_workshop/blob/master/Student_database.ipynb\" target=\"_parent\"><img src=\"https://colab.research.google.com/assets/colab-badge.svg\" alt=\"Open In Colab\"/></a>"
      ]
    },
    {
      "metadata": {
        "id": "oY9qjPAWNapA",
        "colab_type": "code",
        "colab": {}
      },
      "cell_type": "code",
      "source": [
        "class Student:\n",
        "  def __init__(self, name,branch,phone,age,roll_no):\n",
        "        self.name = name\n",
        "        self.branch=branch\n",
        "        self.phone=phone \n",
        "        self.age=age \n",
        "        self.roll_no=roll_no\n",
        "  \n",
        "  def print_info(self):\n",
        "    print('Name of the student is : ' + self.name + ' and is in ' + self.branch + ' barnch' + ' his roll number is '+ str(self.roll_no)+ ', his phone number is '+ str(self.phone) )\n",
        "    \n",
        "  "
      ],
      "execution_count": 0,
      "outputs": []
    },
    {
      "metadata": {
        "id": "Km301DyHN-_k",
        "colab_type": "code",
        "outputId": "310b78da-3ab5-45f5-f08d-fdaf1fb54c47",
        "colab": {
          "base_uri": "https://localhost:8080/",
          "height": 153
        }
      },
      "cell_type": "code",
      "source": [
        "\n",
        "def phone_check():\n",
        "  ph_number=int(raw_input('Enter the mobile number'))\n",
        "  return ph_number\n",
        "  if len(str(ph_number)) > 11:\n",
        "    print(\"Invaild mobile number\\nEnter correct mobile number\")\n",
        "    phone_check()\n",
        "\n",
        "students_dict={}\n",
        "def create_student():\n",
        "  stu_name=str(raw_input('Enter name of the student '))\n",
        "  stu_branch =raw_input('Enter the branch of the student ')\n",
        "  stu_age=int(raw_input('whats his age '))\n",
        "  stu_phone=phone_check()\n",
        "  stu_roll_no=int(input('Enter the roll number'))\n",
        "  students_dict[stu_roll_no]=(Student(stu_name,stu_branch,stu_phone,stu_age,stu_roll_no))   \n",
        "\n",
        "    \n",
        "n=int(input('How many students do you want to add  '))\n",
        "i=0\n",
        "while i<n:\n",
        "  create_student();\n",
        "  i+=1\n",
        "  \n",
        "\n",
        "def search_student():\n",
        "  q=input('Enter the roll no of the student')\n",
        "  if(q in students_dict):\n",
        "    students_dict[q].print_info()\n",
        "  else:\n",
        "    print(\"Student doesn't exist in database\")\n",
        "    \n",
        "\n",
        "search_student()   \n",
        "    \n"
      ],
      "execution_count": 4,
      "outputs": [
        {
          "output_type": "stream",
          "text": [
            "How many students do you want to add  1\n",
            "Enter name of the student dfg\n",
            "Enter the branch of the student dfg\n",
            "whats his age 12\n",
            "Enter the mobile number984984984\n",
            "Enter the roll number12\n",
            "Enter the roll no of the student12\n",
            "Name of the student is : dfg and is in dfg barnch his roll number is 12, his phone number is 984984984\n"
          ],
          "name": "stdout"
        }
      ]
    },
    {
      "metadata": {
        "id": "tsRp2V3aP_tX",
        "colab_type": "code",
        "colab": {}
      },
      "cell_type": "code",
      "source": [
        "students_dict[12].print_info()"
      ],
      "execution_count": 0,
      "outputs": []
    },
    {
      "metadata": {
        "id": "Y3jK6z994Wgv",
        "colab_type": "code",
        "colab": {}
      },
      "cell_type": "code",
      "source": [
        ""
      ],
      "execution_count": 0,
      "outputs": []
    }
  ]
}