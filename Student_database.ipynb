{
  "nbformat": 4,
  "nbformat_minor": 0,
  "metadata": {
    "colab": {
      "name": "Student-database.ipynb",
      "version": "0.3.2",
      "provenance": [],
      "collapsed_sections": [],
      "include_colab_link": true
    },
    "kernelspec": {
      "name": "python2",
      "display_name": "Python 2"
    }
  },
  "cells": [
    {
      "cell_type": "markdown",
      "metadata": {
        "id": "view-in-github",
        "colab_type": "text"
      },
      "source": [
        "<a href=\"https://colab.research.google.com/github/SuyashSonawane/python_workshop/blob/master/Student_database.ipynb\" target=\"_parent\"><img src=\"https://colab.research.google.com/assets/colab-badge.svg\" alt=\"Open In Colab\"/></a>"
      ]
    },
    {
      "metadata": {
        "id": "oY9qjPAWNapA",
        "colab_type": "code",
        "colab": {}
      },
      "cell_type": "code",
      "source": [
        "class Student:\n",
        "  def __init__(self, name,branch,phone,age,roll_no):\n",
        "        self.name = name\n",
        "        self.branch=branch\n",
        "        self.phone=phone \n",
        "        self.age=age \n",
        "        self.roll_no=roll_no\n",
        "  \n",
        "  def print_info(self):\n",
        "    print('Name of the student is : ' + self.name + ' and is in ' + self.branch + ' barnch' + ' his roll number is '+ str(self.roll_no)+ ', his phone number is '+ str(self.phone) )\n",
        "    \n",
        "  "
      ],
      "execution_count": 0,
      "outputs": []
    },
    {
      "metadata": {
        "id": "Km301DyHN-_k",
        "colab_type": "code",
        "outputId": "82b721f3-67e9-4ca7-fbfa-e34b89c7c2c0",
        "colab": {
          "base_uri": "https://localhost:8080/",
          "height": 140
        }
      },
      "cell_type": "code",
      "source": [
        "\n",
        "def phone_check():\n",
        "  ph_number=int(raw_input('Enter the mobile number'))\n",
        "  return ph_number\n",
        "  if len(str(ph_number)) > 11:\n",
        "    print(\"Invaild mobile number\\nEnter correct mobile number\")\n",
        "    phone_check()\n",
        "\n",
        "students_dict={}\n",
        "def create_student():\n",
        "  stu_name=str(raw_input('Enter name of the student '))\n",
        "  stu_branch =raw_input('Enter the branch of the student ')\n",
        "  stu_age=int(raw_input('whats his age '))\n",
        "  stu_phone=phone_check()\n",
        "  stu_roll_no=int(input('Enter the roll number'))\n",
        "  students_dict[stu_roll_no]=(Student(stu_name,stu_branch,stu_phone,stu_age,stu_roll_no))\n",
        "  students_dict[stu_roll_no].print_info()\n",
        "\n",
        "    \n",
        "\n",
        "  \n",
        "\n",
        "def search_student():\n",
        "  q=input('Enter the roll no of the student ')\n",
        "  if(q in students_dict):\n",
        "    students_dict[q].print_info()\n",
        "  else:\n",
        "    print(\"Student doesn't exist in database \")\n",
        "    search_student()\n",
        "    \n",
        "\n",
        "  \n",
        "    \n",
        "def del_student():\n",
        "  r=int(raw_input('Enter the roll number of the student '))\n",
        "  if r in students_dict:\n",
        "    del students_dict[r]\n",
        "    print('student deleted')\n",
        "    if(len(students_dict)==0):\n",
        "      print('the database has no students now')\n",
        "    else:\n",
        "      print(str(len(students_dict)) + ' students are there in database now')\n",
        "  else:\n",
        "    print('No such student in database')\n",
        "    del_student()\n",
        "\n",
        "\n",
        "\n",
        "\n",
        "\n",
        "print('Welcome to student database center')\n",
        "while True:\n",
        "  print('What do you want to do :\\n1.Add student\\n2.Search Students\\n3.Delete Students\\n99.Exit program ')\n",
        "  ans=int(raw_input())\n",
        "  \n",
        "  if(ans==1):\n",
        "    n=int(input('How many students do you want to add  '))\n",
        "    i=0\n",
        "    while i<n:\n",
        "      create_student();\n",
        "      i+=1\n",
        "  elif(ans==2):\n",
        "    search_student()\n",
        "    \n",
        "  elif(ans==3):\n",
        "    del_student()\n",
        "  elif(ans==99):\n",
        "    print(\"thank you \")\n",
        "    break\n",
        "  "
      ],
      "execution_count": 0,
      "outputs": [
        {
          "output_type": "stream",
          "text": [
            "Welcome to student database center\n",
            "What do you want to do :\n",
            "1.Add student\n",
            "2.Search Students\n",
            "3.Delete Students\n",
            "99.Exit program \n"
          ],
          "name": "stdout"
        }
      ]
    },
    {
      "metadata": {
        "id": "huSmLSNINYaQ",
        "colab_type": "code",
        "colab": {}
      },
      "cell_type": "code",
      "source": [
        "3\n"
      ],
      "execution_count": 0,
      "outputs": []
    }
  ]
}